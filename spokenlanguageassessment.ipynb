{
 "cells": [
  {
   "cell_type": "code",
   "execution_count": 1,
   "metadata": {},
   "outputs": [],
   "source": [
    "import sys\n",
    "def my_except_hook(exctype, value, traceback):\n",
    "        print('There has been an error in the system')\n",
    "sys.excepthook = my_except_hook"
   ]
  },
  {
   "cell_type": "code",
   "execution_count": null,
   "metadata": {},
   "outputs": [],
   "source": [
    "import parselmouth\n",
    "from parselmouth.praat import call, run_file\n",
    "import glob\n",
    "import errno\n",
    "import csv,sys\n",
    "import numpy as np # linear algebra\n",
    "import pandas as pd # data processing, CSV file I/O (e.g. pd.read_csv)\n",
    "import time\n",
    "import os\n",
    "from subprocess import check_output\n",
    "from sklearn import preprocessing\n",
    "import queue\n",
    "import sounddevice as sd\n",
    "import soundfile as sf\n",
    "import _thread  \n",
    "import pickle\n",
    "from scipy.stats import binom\n",
    "from scipy.stats import ks_2samp\n",
    "from scipy.stats import ttest_ind\n",
    "from pandas import read_csv"
   ]
  },
  {
   "cell_type": "code",
   "execution_count": null,
   "metadata": {},
   "outputs": [],
   "source": [
    "pathy = input(\"Enter the path to the Auto-Speech_Rater directory: \")\n",
    "name = input(\"what is your name?    \")\n",
    "t0 = int(input(\"Your desired Recording time in seconds:    \"))\n",
    "levvel=int(input(\"Pick degree of difficulties between 0 to 100:    \"))"
   ]
  },
  {
   "cell_type": "code",
   "execution_count": null,
   "metadata": {},
   "outputs": [],
   "source": [
    "pa00=pathy+\"/\"+\"dataset\"+\"/\"+\"audioFiles\"+\"/\"\n",
    "pa0=pathy+\"/\"+\"dataset\"+\"/\"+\"audioFiles\"+\"/\"+name+\".wav\"\n",
    "pa1=pathy+\"/\"+\"dataset\"+\"/\"+\"datanewchi22.csv\"\n",
    "pa2=pathy+\"/\"+\"dataset\"+\"/\"+\"stats.csv\"\n",
    "pa3=pathy+\"/\"+\"dataset\"+\"/\"+\"datacorrP.csv\"\n",
    "pa4=pathy+\"/\"+\"dataset\"+\"/\"+\"datanewchi.csv\"\n",
    "pa5=pathy+\"/\"+\"dataset\"+\"/\"+\"datanewchi33.csv\"\n",
    "pa6=pathy+\"/\"+\"dataset\"+\"/\"+\"datanewchi33.csv\"\n",
    "pa7=pathy+\"/\"+\"dataset\"+\"/\"+\"datanewchi44.csv\"\n",
    "pa8=pathy+\"/\"+\"dataset\"+\"/\"+\"essen\"+\"/\"+\"MLTRNL.praat\"\n",
    "pa9=pathy+\"/\"+\"dataset\"+\"/\"+\"essen\"+\"/\"+\"myspsolution.praat\"\n",
    "\n",
    "rere=pa0\n",
    "\n",
    "RECORD_TIME = t0"
   ]
  }
 ],
 "metadata": {
  "kernelspec": {
   "display_name": "Python 3",
   "language": "python",
   "name": "python3"
  },
  "language_info": {
   "codemirror_mode": {
    "name": "ipython",
    "version": 3
   },
   "file_extension": ".py",
   "mimetype": "text/x-python",
   "name": "python",
   "nbconvert_exporter": "python",
   "pygments_lexer": "ipython3",
   "version": "3.12.4"
  }
 },
 "nbformat": 4,
 "nbformat_minor": 2
}
